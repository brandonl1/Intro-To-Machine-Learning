{
  "nbformat": 4,
  "nbformat_minor": 0,
  "metadata": {
    "colab": {
      "name": "11532759_MLHW4.ipynb",
      "provenance": []
    },
    "kernelspec": {
      "name": "python3",
      "display_name": "Python 3"
    },
    "language_info": {
      "name": "python"
    }
  },
  "cells": [
    {
      "cell_type": "markdown",
      "source": [
        "# **Homework Assignment #4**\n",
        "\n",
        "Brandon Luy\n",
        "\n",
        "11532759\n",
        "\n",
        "CPTS 437\n",
        "\n",
        "\n",
        "---"
      ],
      "metadata": {
        "id": "vILN_ZMp1JNI"
      }
    },
    {
      "cell_type": "markdown",
      "source": [
        "1. "
      ],
      "metadata": {
        "id": "LaqbnMCp1ZDv"
      }
    },
    {
      "cell_type": "markdown",
      "source": [
        "2. The differences between regression, classification and ranking is that classification is the purpose of creating some sort of class lable for a group of elements. Regression relates to predicting something that is continuous, and ranking differs from classification by putting things in to classes lineraly. \n",
        "\n",
        "\n",
        "*  Classification\n",
        "  *   one example of where classification is better than the other 2 methods would be where you need to classify a person based on their gender (male or female)\n",
        "*   Regression\n",
        "  *  You can use regression to predict the age of a person since it is a continuous value that changes over iterations and over time. \n",
        "\n",
        "\n",
        "*   Ranking\n",
        "  *   An example of using ranking would be a returned store or business using an app that returns search results based on the user's preferences such as Yelp or Google Maps. For example, when searching for restaruants or services you can rank them by distance, rating, popularity, etc.\n",
        "\n",
        "\n",
        "\n"
      ],
      "metadata": {
        "id": "84TSvzYL7z-g"
      }
    },
    {
      "cell_type": "code",
      "source": [
        "import numpy as np\n",
        "from sklearn.tree import DecisionTreeClassifier\n",
        "from sklearn.metrics import accuracy_score\n",
        "from sklearn.datasets import load_diabetes\n",
        "from matplotlib import pyplot\n",
        "\n",
        "diabetes = load_diabetes()\n",
        "X, y = diabetes.data, diabetes.target\n",
        "n_iterations = 10\n",
        "n = len(y)\n",
        "stats = list()\n",
        "for i in range(n_iterations):\n",
        "  samples = np.random.randint(n, size=n)\n",
        "  X_train = X[samples]\n",
        "  y_train = y[samples]\n",
        "  test = np.random.randint(n, size=n//3)\n",
        "  X_test = X[test] \n",
        "  y_test = y[test]\n",
        "  model = DecisionTreeClassifier()\n",
        "  model.fit(X_train, y_train)\n",
        "  predictions = model.predict(X_test)\n",
        "  score = accuracy_score(y_test, predictions)\n",
        "  stats.append(score)\n",
        "pyplot.hist(stats)\n",
        "pyplot.show()\n",
        "alpha = 0.90\n",
        "p = ((1.0-alpha)/2.0) * 100\n",
        "lower = max(0.0, np.percentile(stats, p))\n",
        "p = (alpha+((1.0-alpha)/2.0)) * 100\n",
        "upper = min(1.0, np.percentile(stats, p))\n",
        "print(alpha, lower, upper)"
      ],
      "metadata": {
        "colab": {
          "base_uri": "https://localhost:8080/",
          "height": 281
        },
        "id": "FlQILtXiQyKt",
        "outputId": "9810a0cc-71d0-4813-d85e-43f5d8876d2d"
      },
      "execution_count": null,
      "outputs": [
        {
          "output_type": "display_data",
          "data": {
            "text/plain": [
              "<Figure size 432x288 with 1 Axes>"
            ],
            "image/png": "[encoded data removed]"
          },
          "metadata": {
            "needs_background": "light"
          }
        },
        {
          "output_type": "stream",
          "name": "stdout",
          "text": [
            "0.9 0.5897959183673469 0.6809523809523809\n"
          ]
        }
      ]
    }
  ]
}