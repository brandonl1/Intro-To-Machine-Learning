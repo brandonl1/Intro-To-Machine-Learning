{
  "nbformat": 4,
  "nbformat_minor": 0,
  "metadata": {
    "colab": {
      "name": "ML_HW6.ipynb",
      "provenance": [],
      "collapsed_sections": []
    },
    "kernelspec": {
      "name": "python3",
      "display_name": "Python 3"
    },
    "language_info": {
      "name": "python"
    }
  },
  "cells": [
    {
      "cell_type": "markdown",
      "source": [
        "# **Homework Assignment #6**\n",
        "Brandon Luy\n",
        "11532759\n"
      ],
      "metadata": {
        "id": "3Z6zgUJNSYnI"
      }
    },
    {
      "cell_type": "markdown",
      "source": [
        "1.\n",
        "\n",
        "![](https://drive.google.com/uc?export=view&id=1q3eqYARfI4WgpsRk0hkMkfIcYicwawFf)"
      ],
      "metadata": {
        "id": "lpMpRRTwEtX2"
      }
    },
    {
      "cell_type": "markdown",
      "source": [
        "2."
      ],
      "metadata": {
        "id": "kW7IezdGE7Lr"
      }
    },
    {
      "cell_type": "code",
      "source": [
        "from sklearn.tree import DecisionTreeClassifier\n",
        "from sklearn.datasets import fetch_openml\n",
        "from sklearn.model_selection import train_test_split\n",
        "from sklearn.metrics import accuracy_score\n",
        "from sklearn.linear_model import Perceptron\n",
        "from sklearn.model_selection import train_test_split\n",
        "from sklearn.model_selection import cross_val_predict\n",
        "from sklearn.naive_bayes import GaussianNB\n",
        "from sklearn.neighbors import KNeighborsClassifier\n",
        "from sklearn.preprocessing import StandardScaler\n",
        "from sklearn.svm import SVC\n",
        "import matplotlib.pyplot as plt\n",
        "from sklearn.model_selection import cross_val_score\n",
        "\n",
        "\n",
        "phoneme = fetch_openml(name=\"phoneme\")\n",
        "X = phoneme.data\n",
        "y = phoneme.target\n",
        "randomly = np.random.RandomState(42)\n",
        "X_train, X_test, y_train, y_test = train_test_split(X, y, test_size=0.33, random_state = randomly)\n",
        "\n",
        "\n",
        "#classifiers\n",
        "per = Perceptron(tol=1e-3, random_state=0)\n",
        "\n",
        "gaus = GaussianNB().fit(X_train, y_train)\n",
        "\n",
        "knn = KNeighborsClassifier(n_neighbors=5).fit(X_train, y_train)\n",
        "\n",
        "sv = SVC(probability=True, gamma='auto',\n",
        "                random_state=randomly).fit(X_train, y_train)\n",
        "\n",
        "dt =  DecisionTreeClassifier(random_state=randomly,\n",
        "                                    max_depth=10).fit(X_train, y_train)\n",
        "\n",
        "dt.fit(X_train, y_train)\n",
        "per.fit(X_train, y_train)\n",
        "gaus.fit(X_train, y_train)\n",
        "sv.fit(X_train,y_train)\n",
        "knn.fit(X_train, y_train)\n",
        "predictions = dt.predict(X_test)\n",
        "predictions2 = per.predict(X_test)\n",
        "predictions3 = gaus.predict(X_test)\n",
        "predictions4 = sv.predict(X_test)\n",
        "predictions5 = knn.predict(X_test)\n",
        "\n",
        "print(\"Decision Tree Accuracy: \",(accuracy_score(y_test, predictions)))\n",
        "print(\"Preceptron Accuracy: \",(accuracy_score(y_test, predictions2)))\n",
        "print(\"Gaussian Accuracy: \",(accuracy_score(y_test, predictions3)))\n",
        "print(\"SVC Accuracy: \",(accuracy_score(y_test, predictions4)))\n",
        "print(\"KNN Accuracy: \",(accuracy_score(y_test, predictions5)))\n",
        "\n",
        "y1 = accuracy_score(y_test, predictions)\n",
        "y2 = accuracy_score(y_test, predictions2)\n",
        "y3 = accuracy_score(y_test, predictions3)\n",
        "y4 = accuracy_score(y_test, predictions4)\n",
        "y5 = accuracy_score(y_test, predictions5)\n",
        "\n",
        "\n",
        "classifiers = [\n",
        "               predictions, \n",
        "               predictions2,\n",
        "               predictions3,\n",
        "               predictions4,\n",
        "               predictions5\n",
        "]\n"
      ],
      "metadata": {
        "colab": {
          "base_uri": "https://localhost:8080/"
        },
        "id": "YSVjwxL8E5mA",
        "outputId": "121fa2dc-98d9-4c5f-fcb6-25f225994146"
      },
      "execution_count": null,
      "outputs": [
        {
          "output_type": "stream",
          "name": "stdout",
          "text": [
            "Decision Tree Accuracy:  0.8553811659192825\n",
            "Preceptron Accuracy:  0.7460762331838565\n",
            "Gaussian Accuracy:  0.7572869955156951\n",
            "SVC Accuracy:  0.851457399103139\n",
            "KNN Accuracy:  0.8677130044843049\n"
          ]
        }
      ]
    },
    {
      "cell_type": "markdown",
      "source": [
        "3."
      ],
      "metadata": {
        "id": "dXMSc0PWFA48"
      }
    },
    {
      "cell_type": "markdown",
      "source": [
        "points to remember:\n",
        "\n",
        "\n",
        "*   restart env on each iteration\n",
        "*   Get max steps each step\n",
        "*   update Q table after each time getting max step\n",
        "*   keep counter (i.e. iterate total number of rewards at end) \n",
        "\n",
        "Referenced: https://towardsdatascience.com/value-iteration-for-v-function-d7bcccc1ec24 for help with understanding algorithm better\n",
        "\n",
        "\n",
        "\n"
      ],
      "metadata": {
        "id": "p_3QkfnQM8CG"
      }
    },
    {
      "cell_type": "code",
      "source": [
        "'''\n",
        "A frozenlake-v0 is a 4x4 grid world which looks as follows:\n",
        "SFFF       (S: starting point, safe)\n",
        "FHFH       (F: frozen surface, safe)\n",
        "FFFH       (H: hole, fall to your doom)\n",
        "HFFG       (G: goal, where the frisbee is located)\n",
        "Additionally, there is a little uncertainity in the agent movement.\n",
        "Q Learning - A simple q Learning algorithm is employed for the task.\n",
        "The q values are stored in a table and these are updated in each iteration\n",
        "to converge to their optimum values.\n",
        "'''\n",
        "\n",
        "import gym\n",
        "import numpy as np\n",
        "import random\n",
        "import math\n",
        "\n",
        "def main():\n",
        "  env = gym.make(\"FrozenLake-v0\")\n",
        "\n",
        "  num_episodes = 10000\n",
        "  max_steps = 50\n",
        "  gamma = 0.99\n",
        "  learning_rate = 0.1\n",
        "  discount_rate = 0.99\n",
        "  epsilon = 1.0\n",
        "  max_epsilon = 1.0\n",
        "  min_epsilon = 0.01\n",
        "  decay_rate = 0.01\n",
        "\n",
        "  # initialize the Q table\n",
        "  state_space_size = env.observation_space.n\n",
        "  action_space_size = env.action_space.n\n",
        "  Q = np.zeros((state_space_size, action_space_size))\n",
        "  rewards = []\n",
        "\n",
        "  for i in range(num_episodes):\n",
        "    state = env.reset()\n",
        "    curr = 0\n",
        "    complete = False\n",
        "    for j in range(max_steps):\n",
        "      rate_threshold = random.uniform(0,1)\n",
        "      if rate_threshold > epsilon:\n",
        "        action = np.argmax(Q[state:])\n",
        "      else:\n",
        "        action = env.action_space.sample()\n",
        "      #log results of step all parameters that go into \n",
        "\n",
        "      new_state, reward, complete, info = env.step(action)\n",
        "      #increment total reward\n",
        "      curr += reward\n",
        "      new = ((gamma*np.max(Q[new_state, :])) - Q[state, action]) + reward\n",
        "      Q[state, action] += learning_rate * new\n",
        "      state = new_state\n",
        "      #if the number of steps has been completed\n",
        "      if complete == True:\n",
        "        break\n",
        "      if i == (num_episodes -1):\n",
        "        env.render()\n",
        "            #Update Epsilon\n",
        "    epsilon = min_epsilon + (max_epsilon - min_epsilon)*np.exp(-decay_rate*i) \n",
        "    rewards.append(curr)\n",
        "  print(np.around(Q,6))\n",
        "  print('score:', np.mean(rewards))\n",
        "\n",
        "main()"
      ],
      "metadata": {
        "colab": {
          "base_uri": "https://localhost:8080/"
        },
        "id": "N64WimyvFBs6",
        "outputId": "72320748-d220-4b78-9e52-f5c50936667f"
      },
      "execution_count": null,
      "outputs": [
        {
          "output_type": "stream",
          "name": "stdout",
          "text": [
            "  (Left)\n",
            "\u001b[41mS\u001b[0mFFF\n",
            "FHFH\n",
            "FFFH\n",
            "HFFG\n",
            "  (Left)\n",
            "\u001b[41mS\u001b[0mFFF\n",
            "FHFH\n",
            "FFFH\n",
            "HFFG\n",
            "  (Left)\n",
            "SFFF\n",
            "\u001b[41mF\u001b[0mHFH\n",
            "FFFH\n",
            "HFFG\n",
            "  (Left)\n",
            "\u001b[41mS\u001b[0mFFF\n",
            "FHFH\n",
            "FFFH\n",
            "HFFG\n",
            "  (Left)\n",
            "\u001b[41mS\u001b[0mFFF\n",
            "FHFH\n",
            "FFFH\n",
            "HFFG\n",
            "  (Left)\n",
            "SFFF\n",
            "\u001b[41mF\u001b[0mHFH\n",
            "FFFH\n",
            "HFFG\n",
            "  (Left)\n",
            "\u001b[41mS\u001b[0mFFF\n",
            "FHFH\n",
            "FFFH\n",
            "HFFG\n",
            "  (Left)\n",
            "SFFF\n",
            "\u001b[41mF\u001b[0mHFH\n",
            "FFFH\n",
            "HFFG\n",
            "  (Left)\n",
            "SFFF\n",
            "FHFH\n",
            "\u001b[41mF\u001b[0mFFH\n",
            "HFFG\n",
            "  (Left)\n",
            "SFFF\n",
            "FHFH\n",
            "\u001b[41mF\u001b[0mFFH\n",
            "HFFG\n",
            "[[0. 0. 0. 0.]\n",
            " [0. 0. 0. 0.]\n",
            " [0. 0. 0. 0.]\n",
            " [0. 0. 0. 0.]\n",
            " [0. 0. 0. 0.]\n",
            " [0. 0. 0. 0.]\n",
            " [0. 0. 0. 0.]\n",
            " [0. 0. 0. 0.]\n",
            " [0. 0. 0. 0.]\n",
            " [0. 0. 0. 0.]\n",
            " [0. 0. 0. 0.]\n",
            " [0. 0. 0. 0.]\n",
            " [0. 0. 0. 0.]\n",
            " [0. 0. 0. 0.]\n",
            " [0. 0. 0. 0.]\n",
            " [0. 0. 0. 0.]]\n",
            "score: 0.0\n"
          ]
        }
      ]
    },
    {
      "cell_type": "code",
      "source": [
        ""
      ],
      "metadata": {
        "id": "21Q8yOB3Dd6A"
      },
      "execution_count": null,
      "outputs": []
    }
  ]
}