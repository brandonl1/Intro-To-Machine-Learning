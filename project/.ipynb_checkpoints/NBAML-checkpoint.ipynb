{
 "cells": [
  {
   "cell_type": "code",
   "execution_count": 1,
   "metadata": {},
   "outputs": [],
   "source": [
    "import pandas as pd\n",
    "import numpy as np\n",
    "from sklearn.model_selection import train_test_split\n",
    "from sklearn.ensemble import RandomForestClassifier\n",
    "from sklearn.neighbors import KNeighborsClassifier\n",
    "from sklearn.tree import DecisionTreeClassifier"
   ]
  },
  {
   "cell_type": "code",
   "execution_count": 2,
   "metadata": {},
   "outputs": [
    {
     "ename": "KeyError",
     "evalue": "\"None of [Index(['Pos', 'FG%', 'FT%', '3P%', 'TRB', 'AST', 'BLK'], dtype='object')] are in the [columns]\"",
     "output_type": "error",
     "traceback": [
      "\u001b[0;31m---------------------------------------------------------------------------\u001b[0m",
      "\u001b[0;31mKeyError\u001b[0m                                  Traceback (most recent call last)",
      "\u001b[0;32m/var/folders/_m/kym_kk1n1ws7kmnc_wg_f3_m0000gn/T/ipykernel_39694/673724502.py\u001b[0m in \u001b[0;36m<module>\u001b[0;34m\u001b[0m\n\u001b[1;32m      1\u001b[0m \u001b[0mdf\u001b[0m \u001b[0;34m=\u001b[0m \u001b[0mpd\u001b[0m\u001b[0;34m.\u001b[0m\u001b[0mread_csv\u001b[0m\u001b[0;34m(\u001b[0m\u001b[0;34m'NBA2021-2022PlayerStats.csv'\u001b[0m\u001b[0;34m)\u001b[0m\u001b[0;34m\u001b[0m\u001b[0;34m\u001b[0m\u001b[0m\n\u001b[0;32m----> 2\u001b[0;31m \u001b[0mdf\u001b[0m \u001b[0;34m=\u001b[0m \u001b[0mdf\u001b[0m\u001b[0;34m[\u001b[0m\u001b[0;34m[\u001b[0m\u001b[0;34m'Pos'\u001b[0m\u001b[0;34m,\u001b[0m \u001b[0;34m'FG%'\u001b[0m\u001b[0;34m,\u001b[0m \u001b[0;34m'FT%'\u001b[0m\u001b[0;34m,\u001b[0m \u001b[0;34m'3P%'\u001b[0m\u001b[0;34m,\u001b[0m\u001b[0;34m'TRB'\u001b[0m\u001b[0;34m,\u001b[0m \u001b[0;34m'AST'\u001b[0m\u001b[0;34m,\u001b[0m \u001b[0;34m'BLK'\u001b[0m\u001b[0;34m]\u001b[0m\u001b[0;34m]\u001b[0m\u001b[0;34m\u001b[0m\u001b[0;34m\u001b[0m\u001b[0m\n\u001b[0m\u001b[1;32m      3\u001b[0m \u001b[0mtarget\u001b[0m \u001b[0;34m=\u001b[0m \u001b[0mdf\u001b[0m\u001b[0;34m[\u001b[0m\u001b[0;34m'Pos'\u001b[0m\u001b[0;34m]\u001b[0m\u001b[0;34m\u001b[0m\u001b[0;34m\u001b[0m\u001b[0m\n\u001b[1;32m      4\u001b[0m \u001b[0;32mdel\u001b[0m \u001b[0mdf\u001b[0m\u001b[0;34m[\u001b[0m\u001b[0;34m'Pos'\u001b[0m\u001b[0;34m]\u001b[0m\u001b[0;34m\u001b[0m\u001b[0;34m\u001b[0m\u001b[0m\n\u001b[1;32m      5\u001b[0m \u001b[0mdf\u001b[0m\u001b[0;34m[\u001b[0m\u001b[0;34m'3P%'\u001b[0m\u001b[0;34m]\u001b[0m\u001b[0;34m.\u001b[0m\u001b[0mfillna\u001b[0m\u001b[0;34m(\u001b[0m\u001b[0mdf\u001b[0m\u001b[0;34m[\u001b[0m\u001b[0;34m'3P%'\u001b[0m\u001b[0;34m]\u001b[0m\u001b[0;34m.\u001b[0m\u001b[0mmedian\u001b[0m\u001b[0;34m(\u001b[0m\u001b[0;34m)\u001b[0m\u001b[0;34m,\u001b[0m \u001b[0minplace\u001b[0m\u001b[0;34m=\u001b[0m\u001b[0;32mTrue\u001b[0m\u001b[0;34m)\u001b[0m\u001b[0;34m\u001b[0m\u001b[0;34m\u001b[0m\u001b[0m\n",
      "\u001b[0;32m~/opt/anaconda3/lib/python3.9/site-packages/pandas/core/frame.py\u001b[0m in \u001b[0;36m__getitem__\u001b[0;34m(self, key)\u001b[0m\n\u001b[1;32m   3462\u001b[0m             \u001b[0;32mif\u001b[0m \u001b[0mis_iterator\u001b[0m\u001b[0;34m(\u001b[0m\u001b[0mkey\u001b[0m\u001b[0;34m)\u001b[0m\u001b[0;34m:\u001b[0m\u001b[0;34m\u001b[0m\u001b[0;34m\u001b[0m\u001b[0m\n\u001b[1;32m   3463\u001b[0m                 \u001b[0mkey\u001b[0m \u001b[0;34m=\u001b[0m \u001b[0mlist\u001b[0m\u001b[0;34m(\u001b[0m\u001b[0mkey\u001b[0m\u001b[0;34m)\u001b[0m\u001b[0;34m\u001b[0m\u001b[0;34m\u001b[0m\u001b[0m\n\u001b[0;32m-> 3464\u001b[0;31m             \u001b[0mindexer\u001b[0m \u001b[0;34m=\u001b[0m \u001b[0mself\u001b[0m\u001b[0;34m.\u001b[0m\u001b[0mloc\u001b[0m\u001b[0;34m.\u001b[0m\u001b[0m_get_listlike_indexer\u001b[0m\u001b[0;34m(\u001b[0m\u001b[0mkey\u001b[0m\u001b[0;34m,\u001b[0m \u001b[0maxis\u001b[0m\u001b[0;34m=\u001b[0m\u001b[0;36m1\u001b[0m\u001b[0;34m)\u001b[0m\u001b[0;34m[\u001b[0m\u001b[0;36m1\u001b[0m\u001b[0;34m]\u001b[0m\u001b[0;34m\u001b[0m\u001b[0;34m\u001b[0m\u001b[0m\n\u001b[0m\u001b[1;32m   3465\u001b[0m \u001b[0;34m\u001b[0m\u001b[0m\n\u001b[1;32m   3466\u001b[0m         \u001b[0;31m# take() does not accept boolean indexers\u001b[0m\u001b[0;34m\u001b[0m\u001b[0;34m\u001b[0m\u001b[0m\n",
      "\u001b[0;32m~/opt/anaconda3/lib/python3.9/site-packages/pandas/core/indexing.py\u001b[0m in \u001b[0;36m_get_listlike_indexer\u001b[0;34m(self, key, axis)\u001b[0m\n\u001b[1;32m   1312\u001b[0m             \u001b[0mkeyarr\u001b[0m\u001b[0;34m,\u001b[0m \u001b[0mindexer\u001b[0m\u001b[0;34m,\u001b[0m \u001b[0mnew_indexer\u001b[0m \u001b[0;34m=\u001b[0m \u001b[0max\u001b[0m\u001b[0;34m.\u001b[0m\u001b[0m_reindex_non_unique\u001b[0m\u001b[0;34m(\u001b[0m\u001b[0mkeyarr\u001b[0m\u001b[0;34m)\u001b[0m\u001b[0;34m\u001b[0m\u001b[0;34m\u001b[0m\u001b[0m\n\u001b[1;32m   1313\u001b[0m \u001b[0;34m\u001b[0m\u001b[0m\n\u001b[0;32m-> 1314\u001b[0;31m         \u001b[0mself\u001b[0m\u001b[0;34m.\u001b[0m\u001b[0m_validate_read_indexer\u001b[0m\u001b[0;34m(\u001b[0m\u001b[0mkeyarr\u001b[0m\u001b[0;34m,\u001b[0m \u001b[0mindexer\u001b[0m\u001b[0;34m,\u001b[0m \u001b[0maxis\u001b[0m\u001b[0;34m)\u001b[0m\u001b[0;34m\u001b[0m\u001b[0;34m\u001b[0m\u001b[0m\n\u001b[0m\u001b[1;32m   1315\u001b[0m \u001b[0;34m\u001b[0m\u001b[0m\n\u001b[1;32m   1316\u001b[0m         if needs_i8_conversion(ax.dtype) or isinstance(\n",
      "\u001b[0;32m~/opt/anaconda3/lib/python3.9/site-packages/pandas/core/indexing.py\u001b[0m in \u001b[0;36m_validate_read_indexer\u001b[0;34m(self, key, indexer, axis)\u001b[0m\n\u001b[1;32m   1372\u001b[0m                 \u001b[0;32mif\u001b[0m \u001b[0muse_interval_msg\u001b[0m\u001b[0;34m:\u001b[0m\u001b[0;34m\u001b[0m\u001b[0;34m\u001b[0m\u001b[0m\n\u001b[1;32m   1373\u001b[0m                     \u001b[0mkey\u001b[0m \u001b[0;34m=\u001b[0m \u001b[0mlist\u001b[0m\u001b[0;34m(\u001b[0m\u001b[0mkey\u001b[0m\u001b[0;34m)\u001b[0m\u001b[0;34m\u001b[0m\u001b[0;34m\u001b[0m\u001b[0m\n\u001b[0;32m-> 1374\u001b[0;31m                 \u001b[0;32mraise\u001b[0m \u001b[0mKeyError\u001b[0m\u001b[0;34m(\u001b[0m\u001b[0;34mf\"None of [{key}] are in the [{axis_name}]\"\u001b[0m\u001b[0;34m)\u001b[0m\u001b[0;34m\u001b[0m\u001b[0;34m\u001b[0m\u001b[0m\n\u001b[0m\u001b[1;32m   1375\u001b[0m \u001b[0;34m\u001b[0m\u001b[0m\n\u001b[1;32m   1376\u001b[0m             \u001b[0mnot_found\u001b[0m \u001b[0;34m=\u001b[0m \u001b[0mlist\u001b[0m\u001b[0;34m(\u001b[0m\u001b[0mensure_index\u001b[0m\u001b[0;34m(\u001b[0m\u001b[0mkey\u001b[0m\u001b[0;34m)\u001b[0m\u001b[0;34m[\u001b[0m\u001b[0mmissing_mask\u001b[0m\u001b[0;34m.\u001b[0m\u001b[0mnonzero\u001b[0m\u001b[0;34m(\u001b[0m\u001b[0;34m)\u001b[0m\u001b[0;34m[\u001b[0m\u001b[0;36m0\u001b[0m\u001b[0;34m]\u001b[0m\u001b[0;34m]\u001b[0m\u001b[0;34m.\u001b[0m\u001b[0munique\u001b[0m\u001b[0;34m(\u001b[0m\u001b[0;34m)\u001b[0m\u001b[0;34m)\u001b[0m\u001b[0;34m\u001b[0m\u001b[0;34m\u001b[0m\u001b[0m\n",
      "\u001b[0;31mKeyError\u001b[0m: \"None of [Index(['Pos', 'FG%', 'FT%', '3P%', 'TRB', 'AST', 'BLK'], dtype='object')] are in the [columns]\""
     ]
    }
   ],
   "source": [
    "df = pd.read_csv('NBA2021-2022PlayerStats.csv')\n",
    "df = df[['Pos', 'FG%', 'FT%', '3P%','TRB', 'AST', 'BLK']]\n",
    "target = df['Pos']\n",
    "del df['Pos']\n",
    "df['3P%'].fillna(df['3P%'].median(), inplace=True)\n",
    "df['FT%'].fillna(df['FT%'].median(), inplace=True)\n",
    "df['FG%'].fillna(df['FG%'].median(), inplace=True)\n",
    "df"
   ]
  },
  {
   "cell_type": "code",
   "execution_count": 3,
   "metadata": {},
   "outputs": [
    {
     "name": "stdout",
     "output_type": "stream",
     "text": [
      "X_train shape: (375, 6)\n",
      "y_train shape: (375,)\n",
      "X_test shape: (125, 6)\n",
      "y_test shape: (125,)\n"
     ]
    },
    {
     "data": {
      "text/plain": [
       "DecisionTreeClassifier(random_state=5)"
      ]
     },
     "execution_count": 3,
     "metadata": {},
     "output_type": "execute_result"
    }
   ],
   "source": [
    "X_train, X_test, y_train, y_test = train_test_split(df, target, random_state=0)\n",
    "print(\"X_train shape: {}\".format(X_train.shape))\n",
    "print(\"y_train shape: {}\".format(y_train.shape))\n",
    "print(\"X_test shape: {}\".format(X_test.shape))\n",
    "print(\"y_test shape: {}\".format(y_test.shape))\n",
    "knn = KNeighborsClassifier(n_neighbors=5)\n",
    "rfc = RandomForestClassifier(max_depth=10, random_state=20)\n",
    "dtc = DecisionTreeClassifier(random_state=5)\n",
    "knn.fit(X_train, y_train)\n",
    "rfc.fit(X_train, y_train)\n",
    "dtc.fit(X_train, y_train)"
   ]
  },
  {
   "cell_type": "code",
   "execution_count": 5,
   "metadata": {},
   "outputs": [
    {
     "name": "stdout",
     "output_type": "stream",
     "text": [
      "X_new.shape: (1, 6)\n",
      "Prediction with KNeighbors Classifier: ['C']\n",
      "Prediction with Random Forest Classifier: ['PF']\n",
      "Prediction with Decision Tree Classifier: ['C']\n"
     ]
    }
   ],
   "source": [
    "X_new = np.array([[0.477, 0.782, 0.335, 6.5, 1.0, 3.4]])\n",
    "print(\"X_new.shape: {}\".format(X_new.shape))\n",
    "knn_prediction = knn.predict(X_new)\n",
    "rfc_prediction = dtc.predict(X_new)\n",
    "dtc_prediction = rfc.predict(X_new)\n",
    "print(\"Prediction with KNeighbors Classifier: {}\".format(knn_prediction))\n",
    "print(\"Prediction with Random Forest Classifier: {}\".format(rfc_prediction))\n",
    "print(\"Prediction with Decision Tree Classifier: {}\".format(dtc_prediction))"
   ]
  },
  {
   "cell_type": "code",
   "execution_count": 6,
   "metadata": {},
   "outputs": [
    {
     "name": "stdout",
     "output_type": "stream",
     "text": [
      "Test set predictions of KNeighbors Classifier:\n",
      " ['C' 'C' 'SG' 'SF' 'PG' 'PF' 'PG' 'PG' 'SG' 'PF' 'PG' 'PF' 'PG' 'PG' 'SF'\n",
      " 'SF' 'PF' 'SG' 'PF' 'SF' 'SG' 'PF' 'C' 'SF' 'PF' 'PF' 'PG' 'PG' 'SG' 'PG'\n",
      " 'PF' 'PF' 'PG' 'C' 'C' 'C' 'SG' 'PG' 'PF' 'PG' 'SG' 'PF' 'PG' 'SG' 'PF'\n",
      " 'C' 'PF' 'SF' 'SF' 'C' 'PG' 'PF' 'PG' 'C' 'C' 'C' 'C' 'C' 'PF' 'C' 'PF'\n",
      " 'C' 'SF' 'PG' 'SF' 'SG' 'SG' 'PF' 'PF' 'SG' 'C' 'C' 'PF' 'PF' 'PG' 'PF'\n",
      " 'SG' 'C' 'PF' 'PF' 'PG' 'SF' 'SF' 'C' 'SF' 'SF' 'SF' 'SG' 'SF' 'C' 'PF'\n",
      " 'PG' 'C' 'SG' 'SG' 'C' 'C' 'SG' 'SG' 'PF' 'C' 'PF' 'SG' 'PF' 'C' 'PG'\n",
      " 'SF' 'SF' 'SG' 'PF' 'C' 'PG' 'C' 'PF' 'PG' 'SG' 'PG' 'SG' 'PG' 'PF' 'SG'\n",
      " 'PF' 'SG' 'PF' 'SG']\n",
      "Test set score (np.mean): 0.50\n",
      "Test set predictions of Random Forest Classifier:\n",
      " ['C' 'C' 'SG' 'SG' 'SG' 'PF' 'PG' 'SG' 'SG' 'SF' 'SG' 'PF' 'SG' 'PG' 'SF'\n",
      " 'C' 'SG' 'SF' 'PF' 'PF' 'PF' 'SF' 'SF' 'PF' 'C' 'PF' 'PG' 'SG' 'SF' 'PG'\n",
      " 'SG' 'C' 'PG' 'C' 'SF' 'C' 'SG' 'PG' 'PF' 'SG' 'SG' 'C' 'PG' 'SG' 'C' 'C'\n",
      " 'SG' 'SF' 'SF' 'C' 'PG' 'C' 'PG' 'C' 'SG' 'C' 'C' 'PF' 'SF' 'C' 'PF' 'PF'\n",
      " 'SF' 'PG' 'SF' 'SG' 'SG' 'C' 'SF' 'SG' 'PF' 'SG' 'SG' 'PF' 'PG' 'SF' 'SG'\n",
      " 'C' 'SG' 'C' 'PG' 'PF' 'PF' 'C' 'SG' 'C' 'SG' 'SG' 'SF' 'C' 'SG' 'PG'\n",
      " 'PF' 'SG' 'SG' 'C' 'C' 'PF' 'SG' 'PF' 'PF' 'C' 'PG' 'SF' 'C' 'SG' 'SG'\n",
      " 'SF' 'SG' 'PF' 'C' 'PG' 'C' 'PF' 'PG' 'PF' 'PG' 'SG' 'PG' 'SG' 'SG' 'SF'\n",
      " 'SG' 'SF' 'SG']\n",
      "Test set score (np.mean): 0.55\n",
      "Test set predictions of Decision Tree Classifier:\n",
      " ['C' 'SF' 'SG' 'SG' 'PG' 'PF' 'PG' 'PG' 'SF' 'SG' 'SG' 'PF' 'SG' 'PG' 'SF'\n",
      " 'C' 'SF' 'SF' 'PF' 'PF-C' 'SG' 'SG' 'PF' 'SF' 'C' 'SF-PF' 'PG' 'SG' 'PF'\n",
      " 'PG' 'SG' 'PF' 'PG' 'C' 'SF' 'C' 'PG' 'PG' 'PF' 'PG' 'SG' 'C' 'PG' 'SF'\n",
      " 'SF' 'C' 'PF' 'SF' 'PG' 'SG' 'PG' 'C' 'PG' 'C' 'SF' 'SG' 'C' 'PF' 'PF'\n",
      " 'C' 'PF' 'PF' 'SF' 'PG' 'C' 'SG' 'SG' 'C' 'SF' 'PG' 'PF' 'C' 'PF' 'SG'\n",
      " 'PG' 'C' 'SG' 'C' 'SG' 'SG' 'PG' 'PF' 'C' 'C' 'SG' 'C' 'SG' 'SG' 'SF'\n",
      " 'SF' 'SG' 'PG' 'PF' 'SG' 'SG' 'C' 'C' 'PG' 'SG' 'PF' 'SG' 'C' 'PG' 'PF'\n",
      " 'C' 'PG' 'SG' 'SF' 'SG' 'SF' 'C' 'PG' 'C' 'SG' 'PG' 'C' 'PG' 'SG' 'PG'\n",
      " 'SG' 'SG' 'PF-SF' 'SG' 'C' 'SG']\n",
      "Test set score (np.mean): 0.40\n"
     ]
    }
   ],
   "source": [
    "y_pred = knn.predict(X_test)\n",
    "print(\"Test set predictions of KNeighbors Classifier:\\n {}\".format(y_pred))\n",
    "print(\"Test set score (np.mean): {:.2f}\".format(np.mean(y_pred == y_test)))\n",
    "y_pred = rfc.predict(X_test)\n",
    "print(\"Test set predictions of Random Forest Classifier:\\n {}\".format(y_pred))\n",
    "print(\"Test set score (np.mean): {:.2f}\".format(np.mean(y_pred == y_test)))\n",
    "y_pred = dtc.predict(X_test)\n",
    "print(\"Test set predictions of Decision Tree Classifier:\\n {}\".format(y_pred))\n",
    "print(\"Test set score (np.mean): {:.2f}\".format(np.mean(y_pred == y_test)))"
   ]
  },
  {
   "cell_type": "code",
   "execution_count": null,
   "metadata": {},
   "outputs": [],
   "source": []
  }
 ],
 "metadata": {
  "kernelspec": {
   "display_name": "Python 3 (ipykernel)",
   "language": "python",
   "name": "python3"
  },
  "language_info": {
   "codemirror_mode": {
    "name": "ipython",
    "version": 3
   },
   "file_extension": ".py",
   "mimetype": "text/x-python",
   "name": "python",
   "nbconvert_exporter": "python",
   "pygments_lexer": "ipython3",
   "version": "3.9.7"
  }
 },
 "nbformat": 4,
 "nbformat_minor": 2
}
